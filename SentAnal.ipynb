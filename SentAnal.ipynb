{
 "cells": [
  {
   "cell_type": "code",
   "execution_count": null,
   "metadata": {},
   "outputs": [],
   "source": [
    "from nltk.sentiment.vader import SentimentIntensityAnalyzer\n",
    "import nltk\n",
    "import csv\n",
    "nltk.download('vader_lexicon')\n",
    "\n",
    "\n",
    "def openCSV(location):\n",
    "    \n",
    "\n",
    "def sentAnal(folder):\n",
    "    sent = SentimentIntensityAnalyzer()\n",
    "    scoresDict = {}\n",
    "\n",
    "    for \n",
    "\n",
    "\n"
   ]
  }
 ],
 "metadata": {
  "language_info": {
   "name": "python"
  }
 },
 "nbformat": 4,
 "nbformat_minor": 2
}
