{
 "cells": [
  {
   "cell_type": "code",
   "execution_count": 15,
   "metadata": {},
   "outputs": [
    {
     "name": "stdout",
     "output_type": "stream",
     "text": [
      "{'neg': 0.12, 'neu': 0.706, 'pos': 0.174, 'compound': 0.8912}\n"
     ]
    }
   ],
   "source": [
    "from nltk.sentiment.vader import SentimentIntensityAnalyzer\n",
    "import nltk\n",
    "import pandas as pd\n",
    "\n",
    "\n",
    "def csvToDF(location):\n",
    "    df = pd.read_csv(location)\n",
    "    return df\n",
    "\n",
    "def cleanText(text):\n",
    "    # takes in text and returns text lowercase with only whitespace and alphanumeric characters\n",
    "    retText = ''\n",
    "    text = text.to_string(index=False)\n",
    "    for ch in text.lower():\n",
    "        if ch.isalpha() or ch == ' ' or ch.isnumeric():\n",
    "            retText += ch\n",
    "    return retText\n",
    "\n",
    "def sentAnal(csvList):\n",
    "    scoresList = []\n",
    "\n",
    "    for csv in csvList:\n",
    "        sent = SentimentIntensityAnalyzer()\n",
    "        tempList = []\n",
    "        currentDF = csvToDF(csv)\n",
    "        print(sent.polarity_scores(cleanText(currentDF['Lyrics'])))\n",
    "        # tempList.extend([currentDF['Artist'], \n",
    "        #                 currentDF['Producer'], \n",
    "        #                 #currentDF['Album']],\n",
    "        #                 sent.polarity_scores(cleanText(currentDF['Lyrics']))])\n",
    "        # scoresList.append(tempList)\n",
    "    \n",
    "    # return scoresList\n",
    "    pass\n",
    "\n",
    "list = ['DataSets/MetroBoomin.csv']\n",
    "sentAnal(list)\n",
    "        \n",
    "\n",
    "\n"
   ]
  }
 ],
 "metadata": {
  "kernelspec": {
   "display_name": "Python 3",
   "language": "python",
   "name": "python3"
  },
  "language_info": {
   "codemirror_mode": {
    "name": "ipython",
    "version": 3
   },
   "file_extension": ".py",
   "mimetype": "text/x-python",
   "name": "python",
   "nbconvert_exporter": "python",
   "pygments_lexer": "ipython3",
   "version": "3.10.5"
  }
 },
 "nbformat": 4,
 "nbformat_minor": 2
}
