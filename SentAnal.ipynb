from nltk.sentiment.vader import SentimentIntensityAnalyzer
import nltk
import pandas as pd


def csvToDF(location):
    df = pd.read_csv(location)
    return df

def cleanText(text):
    # takes in text and returns text lowercase with only whitespace and alphanumeric characters
    retText = ''
    try:
        for ch in text.lower():
            if ch.isalpha() or ch == ' ' or ch.isnumeric():
                retText += ch
    except:
        print("Meow")
        print(text)
    return retText

def sentAnal(csvList):
    scoresList = []

    for csv in csvList:
        sent = SentimentIntensityAnalyzer()
        tempList = []
        currentDF = csvToDF(csv)
        for row in currentDF["Lyrics"]:   
            print(sent.polarity_scores(cleanText(row)))
        # tempList.extend([currentDF['Artist'], 
        #                 currentDF['Producer'], 
        #                 #currentDF['Album']],
        #                 sent.polarity_scores(cleanText(currentDF['Lyrics']))])
        # scoresList.append(tempList)
    
    # return scoresList
    pass

list = ['DataSets/MetroBoomin.csv']
sentAnal(list)
        


