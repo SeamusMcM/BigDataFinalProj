import networkx as nx
import pandas as pd
import matplotlib.pyplot as plt
import plotly.graph_objects as go
import mplcursors
from pyvis.network import Network

artist_graph = nx.Graph()

path = 'FinalDatasets/MetroBoomin.csv'

def cleanText(text):
    # takes in text and returns text lowercase with only whitespace and alphanumeric characters
    retText = ''
    text = str(text)
    try:
        for ch in text.lower():
            if ch.isalpha() or ch == ' ' or ch.isnumeric():
                retText += ch
    except Exception as e:
        print(f'UwU yowr ewwow is: {e} fow text {text}')
    return retText

def csvToDF(location):
    df = pd.read_csv(location)
    df['Lyrics'] = cleanText(df['Lyrics'])
    return df

metroDataFrame = csvToDF(path)

albumDict = {}

for _, row in metroDataFrame.iterrows():
    artist = row['Artist']
    album = row['Album']
    song = row['Song Title']
    pos = row['pos']
    neg = row['neg']
    neu = row['neu']

    if artist not in albumDict:
        albumDict[artist] = {}

    if album not in albumDict[artist]:
        albumDict[artist][album] = {
            'songs': [],
            'posScores': [],
            'negScores': [],
            'neuScores': []
        }
    albumDict[artist][album]['songs'].append(song)
    albumDict[artist][album]['posScores'].append(pos)
    albumDict[artist][album]['negScores'].append(neg)
    albumDict[artist][album]['neuScores'].append(neu)


for artist, albums in albumDict.items():
    artist_graph.add_node(artist, node_type='artist')

    for album, albumInfo in albums.items():
        avgPos = sum(albumInfo['posScores']) / len(albumInfo['posScores'])
        avgNeg = sum(albumInfo['negScores']) / len(albumInfo['negScores'])
        avgNeu = sum(albumInfo['neuScores']) / len(albumInfo['neuScores'])

        color = (avgPos, avgNeu, avgNeg)

        artist_graph.add_node(album, node_type='album', color=color)
        artist_graph.add_edge(artist, album)

# Create nodes and edges
nodes = []
edges = []

# Create a graph from nodes and edges
G = nx.Graph()
G.add_nodes_from(nodes)
G.add_edges_from(edges)

# Get positions using a layout algorithm
pos = nx.spring_layout(G)

# Create a scatter plot for nodes
node_trace = go.Scatter(
    x=[pos[node][0] for node in G.nodes()],
    y=[pos[node][1] for node in G.nodes()],
    mode='markers',
    hoverinfo='text',
    marker=dict(
        size=10,
        color=[node_attrs.get('color', 'blue') for node, node_attrs in nodes],
    )
)

# Create a scatter plot for edges
edge_x = []
edge_y = []

for edge in G.edges():
    x0, y0 = pos[edge[0]]
    x1, y1 = pos[edge[1]]
    edge_x.extend([x0, x1, None])
    edge_y.extend([y0, y1, None])

edge_trace = go.Scatter(
    x=edge_x,
    y=edge_y,
    mode='lines',
    line=dict(width=1, color='black'),
    hoverinfo='none',
)

# Create a list of node information for hover text
node_info = [node_attrs['info'] for node, node_attrs in nodes]

# Create a figure
fig = go.Figure(data=[edge_trace, node_trace],
                layout=go.Layout(
                    showlegend=False,
                    hovermode='closest',
                    margin=dict(b=0, l=0, r=0, t=0),
                    xaxis=dict(showgrid=False, zeroline=False, showticklabels=False),
                    yaxis=dict(showgrid=False, zeroline=False, showticklabels=False),
                ))

# Add hover text
fig.add_trace(node_trace)
fig.update_traces(hovertext=node_info, marker=dict(size=12, line=dict(width=2, color='DarkSlateGrey')))


# Show the plot
fig.show()
